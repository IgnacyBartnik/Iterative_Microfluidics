{
 "cells": [
  {
   "cell_type": "markdown",
   "metadata": {},
   "source": [
    "# Automation of Microfluidic Experiments -- \n",
    "## 4 Pump Control"
   ]
  },
  {
   "cell_type": "markdown",
   "metadata": {},
   "source": [
    "Welcome to this short explantion of the various features of the 4pump_control.py software\n",
    "This code was written to control a 4 input microfluidic mixer. \n",
    "\n",
    "The main idea behind the project was to make a 4 input microfluidic chip, that would be able to take 2 chemicals, and dilute each one independently, and search for various interesting chemical features at different concentrations and stoichometries of chemicals. \n",
    "\n",
    "This code is based on the 2pump_control.py file. If you wish to understand the code itself, it would be best to start with understanding the 2pump_control.py code, and then moving on to the 4pump_control.py code. If you wish to simply understand the features of the code, this explainer should be sufficient, without having to go through the 2pump_control explainer.\n",
    "\n",
    "The aim of the code was to control a 4 input microfluidic mixer chip, that could mix 2 substances in various proportions and various dilutions of each susbtance. Due to time limitation, only the dilution target was implemented, so the code, combined with the mixrofluidic chip, could dilute 2 subtances individually, and therefore vary the ratio of one substances to another substance at the measurement point. This was done by varying the flow rate ratio (FRR) of the dilution agent and substances. However, the code is not written to vary the FRR of the two already diluted streams.\n",
    "\n",
    "There are no large obstacles in the development of that code. Currently, the program is configured to have a 1:1 FRR of the two diluted subtance streams.\n",
    "\n",
    "But to understand the program more deeply, let us start at the beginning. Let us load the appropriate file. Note that this file relies the connect.py file, so both need to be present in the same directory for the program to function as intended."
   ]
  },
  {
   "cell_type": "code",
   "execution_count": 27,
   "metadata": {},
   "outputs": [],
   "source": [
    "%run 4pump_control.py"
   ]
  },
  {
   "cell_type": "markdown",
   "metadata": {},
   "source": [
    "Initially, we have to create a dictionary of available pumps. We will make this dictionary with the pump_tester() function. It can take baudrate as a optional parameter.\n",
    "\n",
    "It iterates through all detected COM ports, assumes a pump is connected and cycles the pump on and off. It then asks the user if a pump is connected. If yes, the user is meant to press enter, if not, any other input is acceptable. \n",
    "\n",
    "Note that this process stalls if Bluetooth is turned on, as the bluetooth connection is also seen as COM ports, but they do not behave the same way as other COM ports.\n",
    "\n",
    "If a pump is connected, and enter is pressed, the function then asks for a pump number. The pumps should be numbered \"1\", \"2\", \"3\", \"4\", with pumps \"1\" and \"3\" containing the substnaces of interest, and pumps \"2\" and \"4\" containing the dilution agents."
   ]
  },
  {
   "cell_type": "markdown",
   "metadata": {},
   "source": [
    "### Pump compatibility\n",
    "This project used Chemyx Inc. Fusion 100 & 300 syringe pumps, which connect via serial over USB. Chemyx Inc. provides a basic interface which is loaded by the 4pump_control.py file (the connect.py file). This interface is the file connect.py.\n",
    "\n",
    "If a different set of pumps were to be used, if the producer produced a different python control program, the connect.py file could be feasibly simply replaced, with a few adjustments to the Pump class. \n",
    "\n",
    "Otherwise, if the control has to be implemented directly, it can be implemented into the Pump class. Once the Pump class is adjusted, the rest of the program should function without any other edits."
   ]
  },
  {
   "cell_type": "code",
   "execution_count": 2,
   "metadata": {},
   "outputs": [
    {
     "name": "stdout",
     "output_type": "stream",
     "text": [
      "available COM ports are: []\n"
     ]
    }
   ],
   "source": [
    "# does not work with bluetooth turned on... gets stuck on bluetooth COM ports\n",
    "pump_dictionary = pump_tester()"
   ]
  },
  {
   "cell_type": "markdown",
   "metadata": {},
   "source": [
    "There are also dotstrings for all the functions and methods within the 4pump_control.py program. So if anything is unfamilar, you can type in:\n",
    "\n",
    "\n",
    "    help(__function__)"
   ]
  },
  {
   "cell_type": "markdown",
   "metadata": {},
   "source": [
    "\n",
    "    help(pump_tester)"
   ]
  },
  {
   "cell_type": "code",
   "execution_count": 10,
   "metadata": {},
   "outputs": [
    {
     "name": "stdout",
     "output_type": "stream",
     "text": [
      "Help on function pump_tester in module __main__:\n",
      "\n",
      "pump_tester(baudrate=38400)\n",
      "    Summary:\n",
      "        uses connect.py from pump manufacturer website to check for open serial ports\n",
      "        and then generate and return a list of pumps and ports\n",
      "        \n",
      "        need to define pumps with numbers 1 - 4, pump 1 and pump 3 have chemicals, \n",
      "        pump 2 and 4 contain dilution agents\n",
      "        \n",
      "        DOES NOT WORK ON WINDOWS IF BLUETOOTH TURNED ON\n",
      "        (gets stuck on bluetooth COM ports)\n",
      "    Optional Arguments:\n",
      "        baudrate (int): baudrate used for communication with Chemyx Fusion Pumps\n",
      "\n"
     ]
    }
   ],
   "source": [
    "help(pump_tester)"
   ]
  },
  {
   "cell_type": "markdown",
   "metadata": {},
   "source": [
    "Once the pump dictionary is created, we can move on to the main section of the program.\n",
    "# The Complex Experiment class"
   ]
  },
  {
   "cell_type": "code",
   "execution_count": 9,
   "metadata": {},
   "outputs": [
    {
     "name": "stdout",
     "output_type": "stream",
     "text": [
      "Help on class complex_experiment in module __main__:\n",
      "\n",
      "class complex_experiment(builtins.object)\n",
      " |  complex_experiment(pump_dic, pump1_max_vol, pump2_max_vol, pump3_max_vol, pump4_max_vol, overall_flow, equilibration_time, target_value, path123, units, syringe_diameter, syringe_volume, _pumps='ON', communication_rate=38400, colour='R', load_dic_path=0)\n",
      " |  \n",
      " |  DESCRIPTION\n",
      " |      Main working class of the program... is responsible for file structure generation, loading a dictionary\n",
      " |      of available pumps and initializing them internally as Pump objects, based on the class above\n",
      " |      also requires the fill volume of syringes to auto stop any experiments before fluid is exhausted\n",
      " |      was imagined to be able to run multiple experiments, however, due to how the files are saved\n",
      " |      it makes more sense to \"end\" the class (closes the open serial connections to the pumps)\n",
      " |      and create a new iteration of the complex_experiment class for new experiments or new trials\n",
      " |  \n",
      " |  ARGUMENTS:\n",
      " |      pump_dic (dic): pump dictionary generated by pump_tester() function\n",
      " |  \n",
      " |      pump1_max_vol (float): volume (mL) of fluid in syringe in syringe pump 1\n",
      " |  \n",
      " |      pump2_max_vol (float): volume (mL) of fluid in syringe in syringe pump 2\n",
      " |  \n",
      " |      pump3_max_vol (float): volume (mL) of fluid in syringe in syringe pump 3\n",
      " |      \n",
      " |      pump4_max_vol (float): volume (mL) of fluid in syringe in syringe pump 4\n",
      " |      \n",
      " |      overall_flow (float): overall flow out of the chip at the exit point in selected units\n",
      " |      \n",
      " |      equilibration_time (float): time between measurements allow for steady state flow to be achieved\n",
      " |      \n",
      " |      target_value (float): antiquated value from 2 pump program: it is the value that the program would\n",
      " |                            try to achieve by varying dilution coniditions -- not implemented in 4 pump system\n",
      " |      \n",
      " |      path123 (str): path to place where save files will be generated -- windows requires double \\ back slashes\n",
      " |      \n",
      " |      units (str): possible units to be used: 'mL/min', 'μL/min' -- all recorded values will be in those units\n",
      " |                    -- pumps can accept /hr versions of these units, but not implemented in this code\n",
      " |      \n",
      " |      syringe_diameter (float): diameter of syringe in mm -\n",
      " |                                - can be obtained by selecting correct syringe on Fusion pump and copying it\n",
      " |  \n",
      " |      syringe_volume (float): overall volume of syringe in mL -- sets max volume pumped in syringe -\n",
      " |                              - if not set, some pumps can set some random value e.g. 1 mL \n",
      " |                              and stop pumping during during measurements\n",
      " |  \n",
      " |  OPTIONAL PARAMETERS    \n",
      " |      _pumps (str): by default it is \"ON\", will initialize pumps and open COM ports\n",
      " |                    if it is set to any other string, it will not open COM ports\n",
      " |                    this is used to use this class to load data after experiments are complete\n",
      " |  \n",
      " |      communication_rate (int): baudrate used for serial connection -- 38400 set by default\n",
      " |  \n",
      " |      colour (str): by default = \"R\", selects which colour should be used for \n",
      " |                    loading intensity values from Ximea camera\n",
      " |                    if camera is black and white, needs to be set to \"R\"\n",
      " |                    if colour camera is used, possible options are: R, G, B, BW, \n",
      " |                    for red, green, blue and black & white respectively, \n",
      " |                    if in a colour camera e.g. B is selected, the blue channel will be used to load intensities\n",
      " |                    BW used a 1:1:1 average of RGB values\n",
      " |                    also \"IN\" can be added to any colour selected to use inverted intesities values \n",
      " |                    (i.e. 255 - intesity) as in: RIN, BIN, GIN, BWIN\n",
      " |      \n",
      " |      load_dic_path (str): path to pickle path_config file \n",
      " |                           (need to give entire path, include name file with \".pkl\" extension)\n",
      " |                           if given, class will populate its location dictionaries with locations \n",
      " |                           from that experiment, enabling either loading of data for data analysis,\n",
      " |                           or enabling continuation of automated feature searching based on existing data set\n",
      " |                           (i.e. if automated feature searching has to be interrupted, it can be continued \n",
      " |                           from last good data set using this feature: for more details see jupyter notebook)\n",
      " |  \n",
      " |  Methods defined here:\n",
      " |  \n",
      " |  __init__(self, pump_dic, pump1_max_vol, pump2_max_vol, pump3_max_vol, pump4_max_vol, overall_flow, equilibration_time, target_value, path123, units, syringe_diameter, syringe_volume, _pumps='ON', communication_rate=38400, colour='R', load_dic_path=0)\n",
      " |      Initialize self.  See help(type(self)) for accurate signature.\n",
      " |  \n",
      " |  aim_ximea(self, path)\n",
      " |      Summary:\n",
      " |          uses mouse and keyboard to aim ximea CamTool program to folder given by path parameter\n",
      " |      Arguments:\n",
      " |          path (str): path to which Ximea CamTool should be directed towards (so that it saves files there)\n",
      " |  \n",
      " |  append_vol(self, temp_list, time_to_run, pump1rate, pump2rate, pump3rate, pump4rate)\n",
      " |      appends a inputed list with the pumped volumes by each pump and the total pumped volumes of each pump\n",
      " |  \n",
      " |  check_volume_to_pump(self, pump1rate, pump2rate, pump3rate, pump4rate, time_to_run)\n",
      " |      checks to see if there is enough reactant in the pumps to complete the next set of pumping\n",
      " |  \n",
      " |  end(self)\n",
      " |      closes the open COM connections of the pumps\n",
      " |  \n",
      " |  get_reading(self, path, colour)\n",
      " |      Summary:\n",
      " |          loads intesity line profile\n",
      " |      \n",
      " |      Arguments:\n",
      " |          path (str): path to .txt file to be read\n",
      " |          colour (str): which colour channel should be read from line profile\n",
      " |  \n",
      " |  linear_surface_fit(self, X, Y, Z)\n",
      " |  \n",
      " |  linear_surface_plane_function(self, X, Y, a1, a2, c)\n",
      " |      # These 4 functions below developed/taken from\n",
      " |      # https://stackoverflow.com/questions/57367352/how-to-fit-a-plane-to-a-3d-dataset-in-python\n",
      " |      # were meant to be used to fit surfaces for pump1 and pump3 varying mapped spaces (2D maps)\n",
      " |  \n",
      " |  load_the_map(self, colour='R')\n",
      " |      Summary:\n",
      " |          loads the map i.e. the FRR data along with intensity measurements\n",
      " |          really this is aimed at making 3D surface plots of collected data\n",
      " |          when both pump 1 and pump 3 dilutions are varied\n",
      " |      \n",
      " |      Optional Parameters:\n",
      " |          colour (str): selects which colour channel to use for intensity measurements ... \n",
      " |          use \"R\" for BW camera\n",
      " |      \n",
      " |      Return:\n",
      " |          returns data formatted for 3D plot of mapped space with FRR of pump 1 and 2, \n",
      " |          FRR of pump 3 and 4 data, and the intesity data for all those points\n",
      " |          ratio1_data, ratio2_data, intensity_array\n",
      " |  \n",
      " |  load_the_map_for_scatter(self)\n",
      " |      Summary:\n",
      " |          loads the map i.e. the FRR data along with intensity measurements\n",
      " |          uses colour attribute of class to select colour channel to use\n",
      " |      Return:\n",
      " |          returns data formatted for 3d scatter plot of mapped space with FRR of pump 1 and 2, \n",
      " |          FRR of pump 3 and 4 data, and the intesity data for all those points\n",
      " |          _1D_pump1_power, _1D_pump3_power, _1D_ratio1_data, _1D_ratio2_data, _1D_intensity_array\n",
      " |  \n",
      " |  load_the_map_only_1_pump_chaning_FRR(self)\n",
      " |      Summary:\n",
      " |          loads the map i.e. the FRR data along with intensity measurements\n",
      " |          assuming only pump 3 was varied i.e. pump 1 had only one FRR inputed\n",
      " |          uses colour attribute of class to select colour channel to use\n",
      " |      Return:\n",
      " |          returns data formatted for scatter plot of mapped space with FRR of \n",
      " |          pump 1 and 2, FRR of pump 3 and 4 data, and the intesity data for all those points\n",
      " |          int_std is standard deviation (numpy.std) of intesity line profile\n",
      " |          pump1_power, pump3_power, ratio1_data, ratio2_data, intensity, int_std\n",
      " |  \n",
      " |  map_the_space(self, bounds1, bounds2, n1_samples, n2_samples, reverse1_flag, reverse2_flag)\n",
      " |      Summary:\n",
      " |          function to generate a map of the four pump FRR space with linear pump power spacing\n",
      " |          i.e. linear concentrations spacing\n",
      " |          Saves files, doesn't do anything else\n",
      " |          bounds1, bounds2 are a tupel of minimum and maximum pump1_power and pump3_power respectively \n",
      " |          (which overall can be from >0 to <1) ## giving pump power 0 or 1 does not function\n",
      " |          n1_samples, n2_samples are the number of samples to be taken in the pump 1 and pump 3 space respectively\n",
      " |      \n",
      " |      Arguments:\n",
      " |          bounds1 (tupel): minimum and maximum pump1_power (from >0 to 1)\n",
      " |          \n",
      " |          bounds2 (tupel): minimum and maximum pump3_power (from >0 to 1)\n",
      " |          \n",
      " |          n1_samples (int): number of steps to be taken to map the pump 1 space\n",
      " |          \n",
      " |          n2_samples (int): number of steps to be taken to map the pump 3 space\n",
      " |          \n",
      " |          reverse1_flag (boolean): if True, will start with highest values in pump 1 space, if False, will start with lowest values\n",
      " |                                      this is a mediocre implementation of this, it is better handled in the later methods\n",
      " |          \n",
      " |          reverse2_flag (boolean): if True, will start with highest values in pump 3 space, if False, will start with lowest values\n",
      " |                                      this is a mediocre implementation of this, it is better handled in the later methods\n",
      " |  \n",
      " |  map_the_space_logspacing(self, pump1_power_array, bounds2, n2_samples)\n",
      " |      Summary:\n",
      " |          function to generate a map of the four pump FRR space with \n",
      " |          logarithmic (base 10) pump power spacing but pump 1 power is given as an array\n",
      " |          i.e. logarithmic concentrations spacing for pump 3\n",
      " |          Saves files, doesn't do anything else\n",
      " |          splits the pump 3 space into 2 sections if pump power starts above 0.5 and goes below 0.5 \n",
      " |          and makes to measurements by starting with first value above 0.5 and sweeps up\n",
      " |          and then taking measurments starting from the first value below 0.5 and sweeps down\n",
      " |          this is done to improve performance of syringe pumps\n",
      " |          also, these two \"first\" measurements have 1.5 the input equilibration_time -- \n",
      " |          -- done this way as when large pumping rate occurs\n",
      " |          then the pumps need longer to equilibrate\n",
      " |          \n",
      " |      Arguments:\n",
      " |          pump1_power_array (list type): list of pump 1 powers to be used \n",
      " |          \n",
      " |          bounds2 (tupel): minimum and maximum pump3_power (from -inf to <0)\n",
      " |          \n",
      " |          \n",
      " |          n2_samples (int): number of steps to be taken to map the pump 3 space\n",
      " |  \n",
      " |  map_the_space_pump1_list(self, pump1_power_array, bounds2, n2_samples, reverse1_flag, reverse2_flag)\n",
      " |      Summary:\n",
      " |          function to generate a map of the four pump FRR space with linear pump power spacing \n",
      " |          but pump 1 power is given as an array\n",
      " |          i.e. linear concentrations spacing for pump 3 only\n",
      " |          Saves files, doesn't do anything else\n",
      " |          \n",
      " |      Arguments:\n",
      " |          pump1_power_array (list type): list of pump 1 powers to be used \n",
      " |          \n",
      " |          bounds2 (tupel): minimum and maximum pump3_power (from >0 to 1)\n",
      " |          \n",
      " |          \n",
      " |          n2_samples (int): number of steps to be taken to map the pump 3 space\n",
      " |          \n",
      " |          reverse1_flag (boolean): if True, will start with highest values in pump 1 space, if False, will start with lowest values\n",
      " |                                      this is a mediocre implementation of this, it is better handled in the later methods\n",
      " |          \n",
      " |          reverse1_flag (boolean): if True, will start with highest values in pump 3 space, if False, will start with lowest values\n",
      " |                                      this is a mediocre implementation of this, it is better handled in the later methods\n",
      " |  \n",
      " |  minimize_fit_func(self, pump3_power)\n",
      " |      Summary:\n",
      " |          method intended to work in conjungtion with minimize_scalar from  scipy.optimize \n",
      " |          really initially made for 2 pump control program\n",
      " |          enables varing pump 3 power using a quadratic fitting until the self.target_value is reached in measured intensity\n",
      " |          does not save the iterations\n",
      " |          i.e. at the end, have to call self.auto_fit_data_list attribute to have a print out of what the various FRR tested were\n",
      " |  \n",
      " |  plot_map(self, colour='R')\n",
      " |      Summary:\n",
      " |          plots a 3D surface plot of current experiment map \n",
      " |          assumes both pump 1 and pump 3 FRRs were varied\n",
      " |          uses FRR as axis -- probably not the axis you want, \n",
      " |          pump power would be better, as it directly correlates with conc\n",
      " |  \n",
      " |  pumping(self, pump1_power, pump3_power, initial_wait_flag)\n",
      " |      Summary:\n",
      " |          method meant for internal use only, sets appropriate pumping rates\n",
      " |          and starts pumps, as well as checking if there is enough volume in syringes\n",
      " |          waits equilibration_time amout of time before continuing\n",
      " |          also returns some list with pump rates and FRRs\n",
      " |  \n",
      " |  quadratic_surface_fit(self, X, Y, Z)\n",
      " |  \n",
      " |  quadratic_surface_plane_funtion(self, X, Y, a1, a2, a3, a4, a5, c)\n",
      " |  \n",
      " |  reset_volume(self)\n",
      " |      allows for updating of the volumes inside the syringes\n",
      " |  \n",
      " |  runall(self)\n",
      " |      turns on all the pumps\n",
      " |  \n",
      " |  set_diameter(self, diameter)\n",
      " |      sets diameter of all the pumps\n",
      " |  \n",
      " |  set_units(self, units)\n",
      " |      sets units of all the pumps\n",
      " |  \n",
      " |  steady_state_time_finder(self, pump1_power=0.5, pump3_power=0.5, step=-0.25)\n",
      " |      Summary:\n",
      " |          method written to make finding steady state equilibration time finding easier... \n",
      " |          sets a certain FRR for both sets of pumps and waits for input ... \n",
      " |          after input, FRR are changed, and timer is started\n",
      " |          after another input, when steady steady is achieved, timer is stopped along with pumps\n",
      " |      \n",
      " |      Optional Arguments:\n",
      " |          pump1_power (float): initial pump1 power from >0 - 1 \n",
      " |          pump3_power (float): initial pump3 power from >0 - 1 \n",
      " |          step (float): by how much pump 1 and pump 3 power should increase after first input\n",
      " |  \n",
      " |  stopall(self)\n",
      " |      stops all the pumps\n",
      " |  \n",
      " |  take_reading(self, attempt_num)\n",
      " |      Method Summary:\n",
      " |          takes reading of intensity... assumes Ximea CamTool is fullscreen on a 4k display\n",
      " |          takes control of keyboard and mouse to do this --\n",
      " |          -- assumes line profile is displaying on lower section of display\n",
      " |          computer cannot be in use while doing this\n",
      " |          sleep times are there to ensure smooth operation -- \n",
      " |          -- cannot click things too fast, doesn't work\n",
      " |      \n",
      " |      Arguments:\n",
      " |          attempt_num (str or int): save file name\n",
      " |  \n",
      " |  totvolume_pumped(self, name)\n",
      " |      returns the total volume pumped by pump 1, 2, 3, or 4\n",
      " |  \n",
      " |  update_vol(self, pump1rate, pump2rate, pump3rate, pump4rate, time_to_run)\n",
      " |      updates the self.volume atributes of the class\n",
      " |  \n",
      " |  volume_pumped(self, time_to_run, rate)\n",
      " |      calculates volume pumped by pump\n",
      " |  \n",
      " |  ----------------------------------------------------------------------\n",
      " |  Data descriptors defined here:\n",
      " |  \n",
      " |  __dict__\n",
      " |      dictionary for instance variables (if defined)\n",
      " |  \n",
      " |  __weakref__\n",
      " |      list of weak references to the object (if defined)\n",
      "\n"
     ]
    }
   ],
   "source": [
    "help(complex_experiment)"
   ]
  },
  {
   "cell_type": "markdown",
   "metadata": {},
   "source": [
    "The complex_experiment class contains all the functions of the program. You can see the input parameters below. Most should be fairly intuitive. The pump max volume refers to the volume of fluid inside the pumps, with the syringe_volume refering to the actual maximum volume the syringe pump could contain. \n",
    "The overall_flow is the overall flow rate of the four pumps combined. Each two pump pairs (1&2 and 3&4) output half the overall flow.\n"
   ]
  },
  {
   "cell_type": "code",
   "execution_count": 18,
   "metadata": {},
   "outputs": [],
   "source": [
    "pump_dictionary # defined earlier\n",
    "pump1_max_volume = 10 #in mL\n",
    "pump2_max_volume = 10\n",
    "pump3_max_volume = 10\n",
    "pump4_max_volume = 10\n",
    "\n",
    "overall_flow = 0.8  #in units set below\n",
    "equilibration_time = 45  #in seconds\n",
    "target_sensor_readout = 100  #explained later\n",
    "path123 = os.path.dirname(os.path.abspath(\"2pump_control.py\")) #any path could be used as input\n",
    "units = \"mL/min\" #other option is μL/min\n",
    "syringe_diameter = 15.68 #in mm\n",
    "syringe_volume = 12  #in mL\n",
    "_pumps = \"ON\"  #should be \"OFF\" if pumps are not connected, but many features will not work\n",
    "\n",
    "# Optional Arguments\n",
    "communication_rate = 38400  # baudrate to be used\n",
    "colour = \"R\"  # colour channel to be used by data loading and automations methods\n",
    "load_dic_path = 0  # explained later\n",
    "\n",
    "exp2 = complex_experiment(pump_dictionary, pump1_max_volume, pump2_max_volume, pump3_max_vol, pump4_max_vol, \n",
    "                          overall_flow, equilibration_time, target_sensor_readout, path123, units, \n",
    "                          syringe_diameter, syringe_volume, _pumps,\n",
    "                          communication_rate, colour, load_dic_path)"
   ]
  },
  {
   "cell_type": "markdown",
   "metadata": {},
   "source": [
    "Once the class is initialized, it will create a series of folders in the path of path123. It also makes a .pkl file, whose use will be demonstrated later."
   ]
  },
  {
   "cell_type": "markdown",
   "metadata": {},
   "source": [
    "## Methods of the Experiment class\n",
    "All the different features of the 4pump_control software are implemented as methods of the complex_experiment class, with the exception of the pump3only_auto_mapping function explained at the end. \n",
    "\n",
    "You can see the methods in the complex_experiment class in the following way:"
   ]
  },
  {
   "cell_type": "code",
   "execution_count": 12,
   "metadata": {},
   "outputs": [
    {
     "name": "stdout",
     "output_type": "stream",
     "text": [
      "['aim_ximea', 'append_vol', 'check_volume_to_pump', 'end', 'get_reading', 'linear_surface_fit', 'linear_surface_plane_function', 'load_the_map', 'load_the_map_for_scatter', 'load_the_map_only_1_pump_chaning_FRR', 'map_the_space', 'map_the_space_logspacing', 'map_the_space_pump1_list', 'minimize_fit_func', 'plot_map', 'pumping', 'quadratic_surface_fit', 'quadratic_surface_plane_funtion', 'reset_volume', 'runall', 'set_diameter', 'set_units', 'steady_state_time_finder', 'stopall', 'take_reading', 'totvolume_pumped', 'update_vol', 'volume_pumped']\n"
     ]
    }
   ],
   "source": [
    "method_list = [method for method in dir(complex_experiment) if method.startswith('__') is False]\n",
    "print(method_list)"
   ]
  },
  {
   "attachments": {},
   "cell_type": "markdown",
   "metadata": {},
   "source": [
    "You can see, there are a number of methods, but not all of them are equally useful...\n",
    "\n",
    "Let us start with the assumptions the program makes about the experimental setup. It is assumed that measurements will be taken using a Ximea Camera, through the Ximea CamTool GUI program. Ximea CamTool can be found on the Ximea website, as well as a version of it is included in this github repo. \n",
    "\n",
    "https://www.ximea.com/support/wiki/allprod/XIMEA_CamTool\n",
    "\n",
    "The 4pump_control.py software records data by taking over control of the mouse and keyboard. It saves images using the CamTool, but those are meant only for reference. All the data processing is done by also taking a line profile, and using its average as an intensity reading. The way it is set up, it assumes it is working on a 4K screen on Windows, with Ximea CamTool maximized on the screen. \n",
    "\n",
    "-- If you wish to use a different resolution screen, you will need to edit the positions that the pyautogui module moves the mouse to to click to save the line profile in the Ximea CamTool GUI. A version where image detection was used to guide where the mouse clicks, so that it could be used on any resolution display was made, however it would sometimes fail, and was not reliable enough.\n",
    "\n",
    "![CAMTOOL](XimeaCamTool.png)\n",
    "\n",
    "The line profile in the lower section of the screen has to be there. It can be enabled in CamTool with:\n",
    "\n",
    "Tools -> Line Profile. \n",
    "\n",
    "The line profile has to be lined up over the region of interest. In the project, a line width averaging of 251 pixels was used. The program assumes it is working with a black and white camera. If a colour camera is used, the colour channel to be used has to be defined in the complex_experiment class. See the dotstring for more details."
   ]
  },
  {
   "cell_type": "markdown",
   "metadata": {},
   "source": [
    "## Operating the 4pump_control program\n",
    "\n",
    "\n",
    "The first thing to do intially, before any measurements are done: the steady state equilibration time for the set up neets to be found. That is, the time it takes from the pumps chaning their relative pumping speeds to that change being visible in the measurement area of the setup, including the time it takes for that changed flow to stablize. \n",
    "\n",
    "For this, the steady_state_time_finder method was written, that starts with pump 1 & 3 pumping at half power, i.e. with half the flow rate of the overall flow rate, and then once enter is pressed, the pump power increases to 3/4 power. Then, enter has to be pressed again once the flow has stabilized."
   ]
  },
  {
   "cell_type": "code",
   "execution_count": null,
   "metadata": {},
   "outputs": [],
   "source": [
    "print(help(exp.steady_state_time_finder()))\n",
    "exp2.steady_state_time_finder()"
   ]
  },
  {
   "cell_type": "markdown",
   "metadata": {},
   "source": [
    "Once you know this steady state time for a particular set up, you can just define it in the intialization of the class. You can also use the optional arguments in the steady_state_time_finder() to vary the initial pump power of pump 1 & 3, and by how much it increases after pressing enter.\n",
    "\n",
    "## A note on pump power\n",
    "\n",
    "In this work, pump power is refered to many times. It is best to explain it while thinking of two pumps with a constant overall output. Pump power, of each pump making up the pair, is a parameter, that goes from 0 to 1, with 0 corresponding to a pump stopped, and 1, corresponding to the pump pumping at the overall output. Therefore, for each pair of pumps, the sum of their pump powers must be equal to 1. In this code, the pairs of pumps and pump 1 & 2 and pump 3 & 4. Together, these pairs pump out the overall flow defined in the class initialization, so each pair's overall output is half on the overall flow defined.\n",
    "\n",
    "Note that due to how the pumps handle an input rate of 0, and because it was not necessary for the project, the code currently does not function correctly when 0 or 1 is used as an input for pump power. Therefore, if manually defining pump power, it should be >0 and <1.\n",
    "\n",
    "# Cycling through different concentrations\n",
    "As briefly mentioned at the beginning, the program was written to investigate different concentrations of a given substance. The main way that this is done is through the use of \"maps\". A map is simply a series of sensor measurements (via the Ximea CamTool line profile) corresponding to different flow rate ratios (FRRs) of the pump pairs. To generate a map, first you have to aim Ximea CamTool to the correct save location:\n",
    "\n",
    "    exp2.aim_ximea(exp.path_fold_map))\n",
    "\n",
    "Once you run this cell, you have 2 seconds to alt tab to the maximized Ximea CamTool window. The exp.path_fold_map attribute is simply the path to the folder the class initialization made to store the save files from generating the map. The other 2 folder locations will be explained later.\n",
    "\n",
    "You need to run the aim_ximea(exp2.path_fold_map) every time before running a map. "
   ]
  },
  {
   "cell_type": "code",
   "execution_count": null,
   "metadata": {},
   "outputs": [],
   "source": [
    "exp2.aim_ximea(exp2.path_fold_map)"
   ]
  },
  {
   "cell_type": "markdown",
   "metadata": {},
   "source": [
    "Once Ximea is \"aimed\", and the syringe pumps are loaded with filled syringes etc., the concentration space can be mapped. Again, after running the following cell, you have to switch to the maximized Ximea CamTool window for the duration of the experiment."
   ]
  },
  {
   "cell_type": "code",
   "execution_count": null,
   "metadata": {},
   "outputs": [],
   "source": [
    "bounds1 = (0.01, 0.99) ## corresponds to the maximum and minimum pump 1 power that will be measured\n",
    "\n",
    "bounds2 = (0.01, 0.99) ## corresponds to the maximum and minimum pump 3 power that will be measured\n",
    "\n",
    "n1_samples = 10 ## number of sample points to be take in the map in the pump 1 & 2 space\n",
    "\n",
    "n2_samples = 10 ## number of sample points to be take in the map in the pump 3 & 4 space\n",
    "\n",
    "reverse1_flag = True ## if true, will start with high pump 1 power, if False, will start with low pump 1 power\n",
    "\n",
    "reverse2_flag = True ## if true, will start with high pump 3 power, if False, will start with low pump 3 power\n",
    "        \n",
    "exp2.map_the_space(self, bounds1, bounds2, n1_samples, n2_samples, reverse1_flag, reverse2_flag)"
   ]
  },
  {
   "cell_type": "markdown",
   "metadata": {},
   "source": [
    "The pump 1 & 3 powers and various other parameters are saved in a .txt file called map *time*. It has a header labelling the data columns. "
   ]
  },
  {
   "cell_type": "markdown",
   "metadata": {},
   "source": [
    "## Note on pump performance\n",
    "With the Chemyx Inc Fusion pumps, it was found that at large FRRs, (e.g. pump power > 0.9 or <0.1), the high pumping pump can overwhelm the other pump, and cause no output of one of the pumps. This does not occur when the pump power is reduced gradually. The reverse flag was used to do this semi manually, for example by setting the bounds as (0.1, 0.001) and then having the reverse_flag as True. This kind of splitting up the maps is done automatically in the later mapping functions.\n",
    "\n",
    "In the map above, the spacing between the sample points is linear in the \"pump power\" space, i.e. the is a linear spacing of tested concentrations, that correspond to the (pump 1 power)*(syringe concentration).\n",
    "\n",
    "If you would want to keep a constant dilution of one substance, and only vary the second substance, you could use the following method to manually define the list of pump 1 powers to be tested and only input 1 pump power.\n",
    "    \n",
    "    exp2.map_the_space_pump1_list(pump1_power_array, bounds2, n2_samples, reverse1_flag, reverse2_flag)"
   ]
  },
  {
   "cell_type": "code",
   "execution_count": null,
   "metadata": {},
   "outputs": [],
   "source": [
    "exp2.aim_ximea(exp2.path_fold_map)\n",
    "\n",
    "pump1_power_array = [0.25] ## the pump 1 powers that will be tested\n",
    "\n",
    "bounds2 = (0.01, 0.99) ## corresponds to the maximum and minimum pump 3 power that will be measured\n",
    "\n",
    "n2_samples = 10 ## number of sample points to be take in the map in the pump 3 & 4 space\n",
    "\n",
    "reverse1_flag = True ## if true, will reverse the pump1_power_array\n",
    "\n",
    "reverse2_flag = True ## if true, will start with high pump 3 power, if False, will start with low pump 3 power\n",
    "\n",
    "exp2.map_the_space_pump1_list(pump1_power_array, bounds2, n2_samples, reverse1_flag, reverse2_flag)"
   ]
  },
  {
   "cell_type": "markdown",
   "metadata": {},
   "source": [
    "### Logarithmic Spacing of mapped Points\n",
    "\n",
    "If you wish to change the spacing in the above method, so that the pump 3 sample points are equally spaced on a logarithmic plot, you can use the following method.\n",
    "\n",
    "Note that for logspacing method:\n",
    "\n",
    "The pump 3 powers are analyzed, and if there are points above pump 3 power = 0.5 and points below, first, the points above pump 3 power = 0.5 are performed, starting with the point closest to 0.5, and then the same is done for the points below 0.5 pump 3 power, again starting with the point closest to 0.5.\n",
    "\n",
    "This is done to improve pump performance. As mentioned earlier, pumps perform better when they go towards very large (or very small) FRRs gradually, and when they start at a more balanced FRR."
   ]
  },
  {
   "cell_type": "code",
   "execution_count": null,
   "metadata": {},
   "outputs": [],
   "source": [
    "exp2.aim_ximea(exp2.path_fold_map)\n",
    "\n",
    "pump1_power_array = [0.25] ## the pump 1 powers that will be tested\n",
    "\n",
    "bounds2 = (-3, -0.01) ## corresponds to the maximum and minimum pump 3 power that will be measured\n",
    "                      ## Note that the bounds are now as powers of ten, i.e. -3 corresponds to 0.001, \n",
    "                      ## and 0 would correspond to 1 as pump 3 power\n",
    "\n",
    "n2_samples = 10 ## number of sample points to be take in the map in the pump 3 & 4 space\n",
    "\n",
    "map_the_space_logspacing(pump1_power_array, bounds2, n2_samples):"
   ]
  },
  {
   "cell_type": "markdown",
   "metadata": {},
   "source": [
    "# Data Analysis\n",
    "\n",
    "After a map is created, you can use the same class to load the map:\n",
    "\n",
    "                     #optional argument\n",
    "                     #by default it is \"R\"\n",
    "       colour = \"R\"  #colour channel to be used... see note below\n",
    "\n",
    "                     \n",
    "       ratio1_data, ratio2_data, intensity_array = exp2.load_the_map(colour)\n",
    "       \n",
    "The data returned is formated to be plotted with as a 3D surface with matplotlib. It returns flow rate ratios of the pump pairs as the x and y data, even though it is probably more useful to analyze data using pump power, as this corresponds to concentration."
   ]
  },
  {
   "cell_type": "code",
   "execution_count": null,
   "metadata": {},
   "outputs": [],
   "source": [
    "colour = \"R\"\n",
    "ratio1_data, ratio2_data, intensity_array = exp2.load_the_map(colour)"
   ]
  },
  {
   "cell_type": "markdown",
   "metadata": {},
   "source": [
    "You can turn the FRR data into pump power simply by doing the following."
   ]
  },
  {
   "cell_type": "code",
   "execution_count": null,
   "metadata": {},
   "outputs": [],
   "source": [
    "pump1_power = (ratio1_data/(1+ratio1_data))\n",
    "pump3_power = (ratio3_data/(1+ratio3_data))"
   ]
  },
  {
   "cell_type": "markdown",
   "metadata": {},
   "source": [
    "Note: The colour channel to be used depends on two things. If the camera is black and white, because of how the line profile txt file is formatted, you have to set the colour to the \"R\", red, channel. If it is a colour camera, you can set it to \"R\", \"G\", \"B\", \"BW\", \"RIN\", \"BIN\", \"GIN\", \"BWIN\" for red, green, blue, black and white, red inverse, blue inverse, green inverse and black and white inverse respectively. The inverse colours are simply \"255 - sensor readout\". The BW mode for a colour camera combines the RGB values and averages them and gives that as an intensity value. "
   ]
  },
  {
   "cell_type": "markdown",
   "metadata": {},
   "source": [
    "You can also load the data in a format to make a 3D scatter plot\n",
    "    \n",
    "    exp2.load_the_map_for_scatter() "
   ]
  },
  {
   "cell_type": "code",
   "execution_count": null,
   "metadata": {},
   "outputs": [],
   "source": [
    "_1D_pump1_power, _1D_pump3_power, _1D_ratio1_data, _1D_ratio2_data, _1D_intensity_array = exp2.load_the_map_for_scatter() \n",
    "# this method uses the colour channel defined in the initialization\n",
    "# you can change it with:\n",
    "# exp2.colour = \"G\""
   ]
  },
  {
   "cell_type": "markdown",
   "metadata": {},
   "source": [
    "Or if you have just 1 pump 1 power setting, and want to have the data for a 2D plot:"
   ]
  },
  {
   "cell_type": "code",
   "execution_count": null,
   "metadata": {},
   "outputs": [],
   "source": [
    "pump1_power, pump3_power, ratio1_data, ratio2_data, intensity, int_std = exp2.load_the_map_only_1_pump_chaning_FRR()\n",
    "#again colour is defined by the internal value"
   ]
  },
  {
   "cell_type": "markdown",
   "metadata": {},
   "source": [
    "You can also quickly plot the map, with minimal data analysis but also with great ease of use, if you want to quickly look at the data after collection. It is a 3D scatter plot of the data collected."
   ]
  },
  {
   "cell_type": "code",
   "execution_count": null,
   "metadata": {},
   "outputs": [],
   "source": [
    "colour = \"R\" #this is the default setting of the optional argument \"colour\"\n",
    "exp2.plot_map(colour)"
   ]
  },
  {
   "cell_type": "markdown",
   "metadata": {},
   "source": [
    "### Fitting Models\n",
    "\n",
    "If you wish to perform a linear or quadratic surface fit to the data collected (assuming you varied both pump pairs), you can do so with the following functions:\n",
    "\n",
    "    exp2.linear_surface_fit(X, Y, Z)\n",
    "        returns a1, a2, c\n",
    "    exp2.quadratic_surface_fit(X, Y, Z)\n",
    "        returns a1, a2, a3, a4, a5, c\n",
    "        \n",
    "These are quite standard functions, they were implemented into the program, but never actually used on collected data."
   ]
  },
  {
   "cell_type": "markdown",
   "metadata": {},
   "source": [
    "# Target Finding function -- Advanced Implementation\n",
    "As in the 2pump_control.py program, there is a quadratic fitting function, that searches for peaks and a set target sensor readout. It is based on the minimize_scalar function, from scipy.optimize, and has been implemented to iterate over various sensor readouts, creating a feedback loop that then guides the program towards the target value, or a peak. It does not rely on any previously collected data. \n",
    "\n",
    "It first asks the user for a pump 1 power input, to set a pump 1 power that will be constant during the searching, and then it will vary the pump 3 power to achieve either the target value as defined in the initialization, or a peak:"
   ]
  },
  {
   "cell_type": "code",
   "execution_count": null,
   "metadata": {},
   "outputs": [],
   "source": [
    "## To Find the target value as a sensor readout:\n",
    "\n",
    "mybounds = (0.001, 0.999) # bounds of possible pump 1 power in the search of the target value\n",
    "x_atol = (0.02) # absolute tolerance of pump power in search of target value\n",
    "maxiter = 7 # maximum number of iterations allowed in search\n",
    "\n",
    "\n",
    "exp.target_finding_function(mybounds, x_atol, maxiter)"
   ]
  },
  {
   "cell_type": "markdown",
   "metadata": {},
   "source": [
    "The above parameters are the default values of those parameters, i.e. if you wanted to run those parameters, you could just enter the code:\n",
    "\n",
    "    exp.target_finding_function()\n",
    "The bounds are limitted by the definition of pump power, i.e. >0 and <1, but very small numbers such as 0.0000001 with overall flow of e.g. 8 mL / min, are also misinterpreted by the Chemyx Inc. Fusion pumps. \n",
    "\n",
    "The data is saved in the auto_fit folder. At the end, a .txt file is created with the pump 1 power and the sensor readouts. It has the name:\n",
    "\n",
    "    target fitting dataset itr *iteration number*.txt\n",
    "### Changing internal attributes\n",
    "If you wish to change the taget value attribute in an existing instances of the experiment class, you can do this with:\n",
    "\n",
    "    exp.target_value = 25\n",
    "You can do this with any of the attributes defined in the class. So you could also do it for e.g.\n",
    "    \n",
    "    exp.pump1_max_vol = 10"
   ]
  },
  {
   "cell_type": "markdown",
   "metadata": {},
   "source": [
    "# Peak finding function\n",
    "This method is the same as the one above, but tries to maximize the sensor readout, instead of searching for a target readout."
   ]
  },
  {
   "cell_type": "code",
   "execution_count": null,
   "metadata": {},
   "outputs": [],
   "source": [
    "mybounds = (0.001, 0.999) # bounds of possible pump 1 power in the search of the target value\n",
    "x_atol = (0.02) # absolute tolerance of pump power in search of target value\n",
    "maxiter = 7 # maximum number of iterations allowed in search\n",
    "            #these are also the default values\n",
    "\n",
    "exp2.peak_finding_function(mybounds, x_atol, maxiter)"
   ]
  },
  {
   "cell_type": "code",
   "execution_count": 16,
   "metadata": {},
   "outputs": [],
   "source": [
    "wn.Beep(700,2000)"
   ]
  },
  {
   "cell_type": "markdown",
   "metadata": {},
   "source": [
    "# Ending the program\n",
    "After map is created, or a particular experiment is concluded, the program has to be \"closed\". This simply corresponds to a closing of the open COM ports to the syringe pumps so that a new instance of the experiment class can be created. This is done with the command:\n",
    "    \n",
    "    exp.end()\n"
   ]
  },
  {
   "cell_type": "code",
   "execution_count": null,
   "metadata": {},
   "outputs": [],
   "source": [
    "exp2.end()"
   ]
  },
  {
   "cell_type": "markdown",
   "metadata": {},
   "source": [
    "# Post Experiment Data Loading\n",
    "\n",
    "As previously mentioned, once an experiment is complete, but the \"complex_experiment\" class instance is still running, the program is able to load the data from the file structure it created. No additional implementation to navigate the files created is necessary. The program can also do this once the instance is gone i.e. the program can load data at any time, not only while the files are created. To do this, you need another instance of the experiment class, and you simply point it to the .pkl file of the experiment files you wish to load, with the load_dic_path argument. This argument should be the path to said \"path_config\" pickle file. "
   ]
  },
  {
   "cell_type": "code",
   "execution_count": null,
   "metadata": {},
   "outputs": [],
   "source": [
    "pump_dictionary # defined earlier\n",
    "pump1_max_volume = 10 #in mL\n",
    "pump2_max_volume = 10\n",
    "pump3_max_volume = 10\n",
    "pump4_max_volume = 10\n",
    "\n",
    "overall_flow = 0.8  #in units set below\n",
    "equilibration_time = 45  #in seconds\n",
    "target_sensor_readout = 100  #explained later\n",
    "path123 = os.path.dirname(os.path.abspath(\"2pump_control.py\")) #any path could be used as input\n",
    "units = \"mL/min\" #other option is μL/min\n",
    "syringe_diameter = 15.68 #in mm\n",
    "syringe_volume = 12  #in mL\n",
    "_pumps = \"OFF\"  #should be \"OFF\" if pumps are not connected, but many features will not work\n",
    "\n",
    "# Optional Arguments\n",
    "communication_rate = 38400  # baudrate to be used\n",
    "colour = \"R\"  # colour channel to be used by data loading and automations methods\n",
    "load_dic_path = \"C:\\\\Users\\\\Ignacy\\\\OneDrive - Imperial College London\\\\MSci\\\\Data\\\\Term 2\\\\Mixer V28\\\\Complex Pumpkin Experiment 2022-02-21\\\\path_config 15.57.pkl\"\n",
    "\n",
    "exp2_data_loading = complex_experiment(pump_dictionary, pump1_max_volume, pump2_max_volume, pump3_max_vol, pump4_max_vol, \n",
    "                          overall_flow, equilibration_time, target_sensor_readout, path123, units, \n",
    "                          syringe_diameter, syringe_volume, _pumps,\n",
    "                          communication_rate, colour, load_dic_path)"
   ]
  },
  {
   "cell_type": "markdown",
   "metadata": {},
   "source": [
    "After this, all the data loading features described earlier should work, and can be used for data analysis. "
   ]
  },
  {
   "cell_type": "markdown",
   "metadata": {},
   "source": [
    "## Automapping and Feature Searching\n",
    "\n",
    "Now moving on to the most advanced feature of this program. The main assumption is that only the FRR of pump 3 & 4 is varied, and that the pump 1 & 2 FRR is kept constant. \n",
    "\n",
    "The program is a loop of logspace maps, where the program changes the bounds so that they are closer and closer to the interesting features found in the initial map. It does this by interpolating the points collected in the initial map with a cubic spline, and dividing that spine into 10 sections. Then, the variance of the y values in those sections is calculated. If the variance is < 9% of the maximum variance found in the 10 sections, that section is deemed uninteresting, and excluded from the next search.\n",
    "\n",
    "However, not all sections can be rejected... the program analyzes the cubic spline first from left to right, and then from right to left. Therefore, any middle sections that are flat should not be excluded. \n",
    "\n",
    "The cubic spline is also limitted so that the beginning and end of the spline have a first derrivate of 0, i.e. the beginning and end of the interesting sections should resemble a flat line. \n",
    "\n",
    "This approach should be able to detect a number of different feature shapes, such as a sigmoid or a gaussian, and deem them as interesting. \n",
    "\n",
    "A different appraoch using block entrop was also tested, and it worked well on simulated data, but did not function of real world data.\n",
    "\n",
    "### Using this function\n",
    "\n",
    "This function, the pump3only_auto_mapping() function, takes almost the same input arguments as the complex_experiment class. This is because it actually calls on the complex_experiment class to perform the actual maps. But it takes a number of extra arguments as well:\n",
    "    \n",
    "    pump3_half_stock_conc -- concentration of the substance in the syringe in pump 3\n",
    "                             taken so that graphs that are plotted have a accurate x-axis label\n",
    "                             \n",
    "    n_samples -- number of points to be taken for each map, recommended minimum of 6\n",
    "    \n",
    "    load_dic_path -- optional argument\n",
    "                     path to path_config .pkl file, that can be used to start the program based on an existing map\n",
    "                     this is very useful in the case that the program has to be interrupted because of e.g. the \n",
    "                     syringes running out of liquid\n",
    "    \n",
    "    initial_bounds -- optional argument\n",
    "                      defualt values = (-3, -0.01)\n",
    "                      The initial bounds set for the first map performed... \n",
    "                      ...if no path to a path_cofig pkl file is given.\n",
    "                      Again, the bounds are logarithmic, i.e. to turn them into pump power, use 10^ (initial_bounds)\n",
    "\n",
    "The way that running the function actually works is that, once you run it, it will ask you for the pump power of pump 1. After giving it the pump 1 power, you then have to:\n",
    "\n",
    "If no previous map is used:\n",
    "\n",
    "    You have to alt tab to a maximized Ximea CamTool and wait untill a map is collected. \n",
    "    Afterwords you have to return to the program.\n",
    "    \n",
    "After a map is collected, or loaded into the program\n",
    "Two plots will be plotted, one with a logarithmic scale, and one with a concentration scale\n",
    "On them, the proposed new map section will be highlighted.\n",
    "The program will then wait for an empty input to continue.\n",
    "\n",
    "This manual check was implemented as a development measure, to make monitoring the intial run of the function easier. However, it could easily be removed.\n",
    "\n",
    "The program will continue reducing the range of the mapped space, until it deems all sections being mapped as information rich.                  "
   ]
  },
  {
   "cell_type": "code",
   "execution_count": 28,
   "metadata": {},
   "outputs": [],
   "source": [
    "pump_dic = {'2': 'COM4', '4': 'COM5', '1': 'COM7', '3': 'COM8'}\n",
    "\n",
    "pump1_max_vol = 3.8\n",
    "pump2_max_vol = 12\n",
    "pump3_max_vol = 8\n",
    "pump4_max_vol = 12\n",
    "\n",
    "_pumps = \"ON\"\n",
    "\n",
    "number_of_pumps = 4\n",
    "syringe_diameter = 15.89\n",
    "syringe_volume = 12\n",
    "\n",
    "overall_flow = 0.8\n",
    "equilibriation_time = 45        ## 20 + 35\n",
    "target_value = 100\n",
    "units = \"mL/min\"\n",
    "path123 = \"C:\\\\Users\\\\Ignacy\\\\OneDrive - Imperial College London\\\\MSci\\\\Data\\\\Term 2\\\\Mixer V28\"\n",
    "communication_rate = 38400\n",
    "colour = \"R\"\n",
    "pump3_half_stock_conc = 0.15\n",
    "n_samples = 8\n",
    "load_dic_path = \"C:\\\\Users\\\\Ignacy\\OneDrive - Imperial College London\\\\MSci\\\\Data\\\\Term 2\\\\Mixer V28\\\\Complex Pumpkin Experiment 2022-03-23\\\\path_config 15.1.pkl\"\n"
   ]
  },
  {
   "cell_type": "code",
   "execution_count": null,
   "metadata": {},
   "outputs": [],
   "source": [
    "pump3only_auto_mapping(pump_dic, pump1_max_vol, pump2_max_vol, pump3_max_vol, pump4_max_vol, overall_flow, equilibriation_time, target_value, units, path123, communication_rate, colour, syringe_diameter, syringe_volume, _pumps, pump3_half_stock_conc, n_samples, load_dic_path)"
   ]
  },
  {
   "attachments": {},
   "cell_type": "markdown",
   "metadata": {},
   "source": [
    "Unfortunately, for this function to work, you need to be connected to the pumps. However, here is a screenshot of what it would look like: (seeker_finder was the intial name of the function)\n",
    "\n",
    "![graph1](graph1.png)"
   ]
  },
  {
   "attachments": {},
   "cell_type": "markdown",
   "metadata": {},
   "source": [
    "Iteration number 2:\n",
    "\n",
    "![graph2](graph2.png)\n",
    "\n",
    "And so forth until the highlighted area would reach both edges\n",
    "The data could then be loaded as described before, as each iteration would just be a new complex_experiment instance"
   ]
  },
  {
   "cell_type": "markdown",
   "metadata": {},
   "source": [
    "Code developed by\n",
    "    \n",
    "    Ignacy Bartnik\n",
    "    IgnacyABartnik@gmail.com\n",
    "Supervised by\n",
    "\n",
    "    Robert Strutt\n",
    "    Nick Brooks\n",
    "Created as part of\n",
    "    \n",
    "    Master Project\n",
    "    MSci Chemistry with Molecular Physics\n",
    "    Imperial College London"
   ]
  },
  {
   "cell_type": "code",
   "execution_count": null,
   "metadata": {},
   "outputs": [],
   "source": []
  }
 ],
 "metadata": {
  "interpreter": {
   "hash": "470eeb587c35df52ddcf942ff542e7d859628f46f17b45abbaee09649da80e4f"
  },
  "kernelspec": {
   "display_name": "Python 3",
   "language": "python",
   "name": "python3"
  },
  "language_info": {
   "codemirror_mode": {
    "name": "ipython",
    "version": 3
   },
   "file_extension": ".py",
   "mimetype": "text/x-python",
   "name": "python",
   "nbconvert_exporter": "python",
   "pygments_lexer": "ipython3",
   "version": "3.7.6"
  }
 },
 "nbformat": 4,
 "nbformat_minor": 2
}
